{
 "cells": [
  {
   "cell_type": "markdown",
   "source": [
    "# Create the Supply Chain data for a fictitious automotive company using Graph Database (Neo4j)\n",
    "\n",
    "In this file we will:\n",
    "\n",
    "+ Create dummy data for a car manufacturer along with its subsidiaries\n",
    "\n",
    "Below image shows provides a high-level overview of how the various components of this fictitious car manufacturing company are related amongst each other. This provides an overview how the supplier organization/subsidiaries are related with the company, what are the locations where the factories and warehouses are operating. What are the various products required to build the car and how they are related with the demand"
   ],
   "metadata": {
    "collapsed": false
   },
   "id": "694c3b5b7980fdd1"
  },
  {
   "cell_type": "markdown",
   "source": [
    "![supply-chain-graph-model.jpg](supply-chain-graph-model.jpg \"Supply Chain Graph Model\")"
   ],
   "metadata": {
    "collapsed": false
   },
   "id": "8e81b606c3b19b74"
  },
  {
   "cell_type": "markdown",
   "source": [
    "## Change the cell width for better visualization"
   ],
   "metadata": {
    "collapsed": false
   },
   "id": "97d9dabd1f62b6e5"
  },
  {
   "cell_type": "code",
   "execution_count": 16,
   "outputs": [
    {
     "data": {
      "text/plain": "<IPython.core.display.HTML object>",
      "text/html": "<style>.container { width: 100% !important; }</style>"
     },
     "metadata": {},
     "output_type": "display_data"
    }
   ],
   "source": [
    "from IPython.display import display, HTML\n",
    "# Increase the width of the notebook cells\n",
    "display(HTML(\"<style>.container { width: 100% !important; }</style>\"))"
   ],
   "metadata": {
    "collapsed": false,
    "ExecuteTime": {
     "end_time": "2023-11-16T05:30:12.635952Z",
     "start_time": "2023-11-16T05:30:12.601573Z"
    }
   },
   "id": "936f5f96b92fa9a5"
  },
  {
   "cell_type": "code",
   "execution_count": 18,
   "outputs": [],
   "source": [
    "from py2neo import Graph, Node, Relationship\n",
    "import time\n",
    "import traceback"
   ],
   "metadata": {
    "collapsed": false,
    "ExecuteTime": {
     "end_time": "2023-11-16T05:30:13.408199Z",
     "start_time": "2023-11-16T05:30:13.406193Z"
    }
   },
   "id": "5661bf64b7b18b6b"
  },
  {
   "cell_type": "markdown",
   "source": [
    "### Establish Neo4j connection\n",
    "\n",
    "The two cells below can be used to establish the Neo4j database connection, and check the status."
   ],
   "metadata": {
    "collapsed": false
   },
   "id": "723de9973a529d87"
  },
  {
   "cell_type": "code",
   "execution_count": 19,
   "outputs": [],
   "source": [
    "# Create a connection to the Neo4j database\n",
    "graph = Graph(\"bolt://localhost:7687\", auth=(\"neo4j\", \"neo\"))"
   ],
   "metadata": {
    "collapsed": false,
    "ExecuteTime": {
     "end_time": "2023-11-16T05:30:13.454561Z",
     "start_time": "2023-11-16T05:30:13.409849Z"
    }
   },
   "id": "8fca22b033eaa6dc"
  },
  {
   "cell_type": "code",
   "execution_count": 20,
   "outputs": [
    {
     "name": "stdout",
     "output_type": "stream",
     "text": [
      "Node count: 37\n"
     ]
    }
   ],
   "source": [
    "# Test the connection by running a simple query\n",
    "try:\n",
    "    result = graph.run(\"MATCH (n) RETURN COUNT(n) AS node_count\").data()\n",
    "    node_count = result[0]['node_count']\n",
    "    print(f\"Node count: {node_count}\")\n",
    "except Exception as e:\n",
    "    print(f\"Failed to execute query: {e}\")"
   ],
   "metadata": {
    "collapsed": false,
    "ExecuteTime": {
     "end_time": "2023-11-16T05:30:13.465502Z",
     "start_time": "2023-11-16T05:30:13.455441Z"
    }
   },
   "id": "195e7e5095c88166"
  },
  {
   "cell_type": "code",
   "execution_count": 21,
   "outputs": [],
   "source": [
    "# helper function to run a query and print the results and execution time\n",
    "def run_request(request):\n",
    "    start_time = time.time()\n",
    "    try:\n",
    "        if isinstance(request, list):\n",
    "          for query in request:\n",
    "            graph.run(query)\n",
    "               \n",
    "          results = \"Done\"\n",
    "        else:\n",
    "          results = graph.run(request)\n",
    "          results = results if results else \"done\"\n",
    "        \n",
    "        exec_time = time.time() - start_time\n",
    "        print(f'-- execution time: {round(exec_time, 3)} sec --')\n",
    "        return results\n",
    "    except Exception as e:\n",
    "        exec_time = time.time() - start_time\n",
    "        print(f\"Failed to execute query: {e}\")\n",
    "        print(f'-- execution time: {round(exec_time, 3)} sec --')\n",
    "        print(traceback.format_exc())  # Print full traceback\n",
    "        return None"
   ],
   "metadata": {
    "collapsed": false,
    "ExecuteTime": {
     "end_time": "2023-11-16T05:30:13.469142Z",
     "start_time": "2023-11-16T05:30:13.467613Z"
    }
   },
   "id": "1d664ab389516864"
  },
  {
   "cell_type": "markdown",
   "source": [
    "## Delete all data in the database\n",
    "\n",
    "Below cell when run, deletes all data in the database. Use this cell with **CAUTION**"
   ],
   "metadata": {
    "collapsed": false
   },
   "id": "190bb2beef3399c1"
  },
  {
   "cell_type": "code",
   "execution_count": 31,
   "outputs": [
    {
     "name": "stdout",
     "output_type": "stream",
     "text": [
      "-- execution time: 0.127 sec --\n"
     ]
    },
    {
     "data": {
      "text/plain": "(No data)",
      "text/html": "(No data)"
     },
     "execution_count": 31,
     "metadata": {},
     "output_type": "execute_result"
    }
   ],
   "source": [
    "delete_request = \"\"\"\n",
    "MATCH (n)\n",
    "DETACH DELETE n\n",
    "\"\"\"\n",
    "run_request(delete_request)"
   ],
   "metadata": {
    "collapsed": false,
    "ExecuteTime": {
     "end_time": "2023-11-16T05:57:32.407464Z",
     "start_time": "2023-11-16T05:57:32.283557Z"
    }
   },
   "id": "ec086a9f9c39535b"
  },
  {
   "cell_type": "markdown",
   "source": [
    "---"
   ],
   "metadata": {
    "collapsed": false
   },
   "id": "aef37c4b7287d1e4"
  },
  {
   "cell_type": "markdown",
   "source": [
    "## Create the graph\n",
    "\n",
    "This section creates the Supply Chain data. In subsequest cells this creates:\n",
    "+ Companies, suppliers, subsidiaries\n",
    "+ Add locations, warehouses, factories, products, stocks"
   ],
   "metadata": {
    "collapsed": false
   },
   "id": "1b30909fec2dcb93"
  },
  {
   "cell_type": "markdown",
   "source": [
    "#### Companies"
   ],
   "metadata": {
    "collapsed": false
   },
   "id": "c8261c8d51162965"
  },
  {
   "cell_type": "code",
   "execution_count": 32,
   "outputs": [
    {
     "name": "stdout",
     "output_type": "stream",
     "text": [
      "-- execution time: 0.033 sec --\n"
     ]
    },
    {
     "data": {
      "text/plain": "'Done'"
     },
     "execution_count": 32,
     "metadata": {},
     "output_type": "execute_result"
    }
   ],
   "source": [
    "# Run Cypher queries to create nodes\n",
    "queries_companies = [\n",
    "    \"CREATE (c1:Company {id: 'company-1', name: 'TestCo-1'})\",\n",
    "    \"CREATE (c2:Company {id: 'company-2', name: 'TestCo-2'})\",\n",
    "    \"CREATE (c3:Company {id: 'company-3', name: 'TestCo-3'})\",\n",
    "    \"CREATE (c4:Company {id: 'company-4', name: 'TestCo-4'})\",\n",
    "    \"CREATE (c5:Company {id: 'company-5', name: 'TestCo-5'})\",\n",
    "    \"CREATE (c6:Company {id: 'company-6', name: 'TestCo-6'})\",\n",
    "    \"CREATE (c7:Company {id: 'company-7', name: 'TestCo-7'})\"\n",
    "]\n",
    "run_request(queries_companies)"
   ],
   "metadata": {
    "collapsed": false,
    "ExecuteTime": {
     "end_time": "2023-11-16T05:57:35.754170Z",
     "start_time": "2023-11-16T05:57:35.722286Z"
    }
   },
   "id": "d4ed49c88452638b"
  },
  {
   "cell_type": "markdown",
   "source": [
    "#### Locations"
   ],
   "metadata": {
    "collapsed": false
   },
   "id": "f75db3153ad16c83"
  },
  {
   "cell_type": "code",
   "execution_count": 33,
   "outputs": [
    {
     "name": "stdout",
     "output_type": "stream",
     "text": [
      "-- execution time: 0.043 sec --\n"
     ]
    },
    {
     "data": {
      "text/plain": "'Done'"
     },
     "execution_count": 33,
     "metadata": {},
     "output_type": "execute_result"
    }
   ],
   "source": [
    "queries_locations = [\n",
    "    \"CREATE (:Location {id: 'company-2-location-1', name: 'Facility-1'})\",\n",
    "    \"CREATE (:Location {id: 'company-2-location-2', name: 'Facility-2'})\",\n",
    "    \"CREATE (:Location {id: 'company-5-location-1', name: 'Facility-3'})\",\n",
    "    \"CREATE (:Location {id: 'company-5-location-2', name: 'Facility-4'})\",\n",
    "    \"CREATE (:Location {id: 'company-6-location-1', name: 'Facility-5'})\",\n",
    "    \"CREATE (:Location {id: 'company-7-location-1', name: 'Facility-6'})\"\n",
    "]\n",
    "run_request(queries_locations)"
   ],
   "metadata": {
    "collapsed": false,
    "ExecuteTime": {
     "end_time": "2023-11-16T05:57:36.280744Z",
     "start_time": "2023-11-16T05:57:36.235714Z"
    }
   },
   "id": "f7fa50d25885ec90"
  },
  {
   "cell_type": "markdown",
   "source": [
    "#### Warehouses"
   ],
   "metadata": {
    "collapsed": false
   },
   "id": "6e57e619a9c5db3b"
  },
  {
   "cell_type": "code",
   "execution_count": 34,
   "outputs": [
    {
     "name": "stdout",
     "output_type": "stream",
     "text": [
      "-- execution time: 0.043 sec --\n"
     ]
    },
    {
     "data": {
      "text/plain": "'Done'"
     },
     "execution_count": 34,
     "metadata": {},
     "output_type": "execute_result"
    }
   ],
   "source": [
    "queries_warehouses = [\n",
    "    \"CREATE (:Warehouse {id: 'company-2-location-1-warehouse', name: 'Warehouse-1'})\",\n",
    "    \"CREATE (:Warehouse {id: 'company-2-location-2-warehouse', name: 'Warehouse-2'})\",\n",
    "    \"CREATE (:Warehouse {id: 'company-5-location-1-warehouse', name: 'Warehouse-3'})\",\n",
    "    \"CREATE (:Warehouse {id: 'company-5-location-2-warehouse', name: 'Warehouse-4'})\",\n",
    "    \"CREATE (:Warehouse {id: 'company-6-location-1-warehouse', name: 'Warehouse-5'})\",\n",
    "    \"CREATE (:Warehouse {id: 'company-7-location-1-warehouse', name: 'Warehouse-6'})\"\n",
    "]\n",
    "run_request(queries_warehouses)"
   ],
   "metadata": {
    "collapsed": false,
    "ExecuteTime": {
     "end_time": "2023-11-16T05:57:36.754587Z",
     "start_time": "2023-11-16T05:57:36.709330Z"
    }
   },
   "id": "b2bcdfdb826ec1ef"
  },
  {
   "cell_type": "markdown",
   "source": [
    "#### Factories"
   ],
   "metadata": {
    "collapsed": false
   },
   "id": "3a7b0bdcb1680bf3"
  },
  {
   "cell_type": "code",
   "execution_count": 35,
   "outputs": [
    {
     "name": "stdout",
     "output_type": "stream",
     "text": [
      "-- execution time: 0.033 sec --\n"
     ]
    },
    {
     "data": {
      "text/plain": "'Done'"
     },
     "execution_count": 35,
     "metadata": {},
     "output_type": "execute_result"
    }
   ],
   "source": [
    "queries_factories = [\n",
    "    \"CREATE (:Factory {id: 'company-2-location-1-factory', name: 'Factory-1'})\",\n",
    "    \"CREATE (:Factory {id: 'company-2-location-2-factory', name: 'Factory-2'})\",\n",
    "    \"CREATE (:Factory {id: 'company-5-location-1-factory', name: 'Factory-3'})\",\n",
    "    \"CREATE (:Factory {id: 'company-5-location-2-factory', name: 'Factory-4'})\",\n",
    "    \"CREATE (:Factory {id: 'company-6-location-1-factory', name: 'Factory-5'})\",\n",
    "    \"CREATE (:Factory {id: 'company-7-location-1-factory', name: 'Factory-6'})\"\n",
    "]\n",
    "run_request(queries_factories)"
   ],
   "metadata": {
    "collapsed": false,
    "ExecuteTime": {
     "end_time": "2023-11-16T05:57:37.168471Z",
     "start_time": "2023-11-16T05:57:37.132632Z"
    }
   },
   "id": "9845d0d734c12191"
  },
  {
   "cell_type": "markdown",
   "source": [
    "#### Products"
   ],
   "metadata": {
    "collapsed": false
   },
   "id": "efad790774ed365e"
  },
  {
   "cell_type": "code",
   "execution_count": 36,
   "outputs": [
    {
     "name": "stdout",
     "output_type": "stream",
     "text": [
      "-- execution time: 0.031 sec --\n"
     ]
    },
    {
     "data": {
      "text/plain": "'Done'"
     },
     "execution_count": 36,
     "metadata": {},
     "output_type": "execute_result"
    }
   ],
   "source": [
    "queries_products = [\n",
    "    \"CREATE (:Product {id: 'company-2-product-1', name: 'Sedan Car'})\",\n",
    "    \"CREATE (:Product {id: 'company-2-product-2', name: 'SUV Car'})\",\n",
    "    \"CREATE (:Product {id: 'company-5-product-1', name: 'Front Seat'})\",\n",
    "    \"CREATE (:Product {id: 'company-5-product-2', name: 'Rear Seat'})\",\n",
    "    \"CREATE (:Product {id: 'company-5-product-3', name: 'Bench Seat'})\",\n",
    "    \"CREATE (:Product {id: 'company-6-product-1', name: 'Springs'})\",\n",
    "    \"CREATE (:Product {id: 'company-6-product-2', name: 'Heating'})\",\n",
    "    \"CREATE (:Product {id: 'company-7-product-1', name: 'Steel'})\"\n",
    "]\n",
    "run_request(queries_products)"
   ],
   "metadata": {
    "collapsed": false,
    "ExecuteTime": {
     "end_time": "2023-11-16T05:57:37.557476Z",
     "start_time": "2023-11-16T05:57:37.524888Z"
    }
   },
   "id": "6b407c22a7ab1e97"
  },
  {
   "cell_type": "markdown",
   "source": [
    "#### Stocks"
   ],
   "metadata": {
    "collapsed": false
   },
   "id": "4a4ad7c02674f427"
  },
  {
   "cell_type": "code",
   "execution_count": 37,
   "outputs": [
    {
     "name": "stdout",
     "output_type": "stream",
     "text": [
      "-- execution time: 0.031 sec --\n"
     ]
    },
    {
     "data": {
      "text/plain": "'Done'"
     },
     "execution_count": 37,
     "metadata": {},
     "output_type": "execute_result"
    }
   ],
   "source": [
    "queries_stocks = [\n",
    "    \"CREATE (:Stock {id: 'company-2-location-1-warehouse-stock-1', date: datetime('2022-08-01')})\",\n",
    "    \"CREATE (:Stock {id: 'company-2-location-1-warehouse-stock-2', date: datetime('2022-08-02')})\",\n",
    "    \"CREATE (:Stock {id: 'company-7-location-1-warehouse-stock-1', date: datetime('2022-08-01')})\",\n",
    "    \"CREATE (:Stock {id: 'company-7-location-1-warehouse-stock-2', date: datetime('2022-08-02')})\"\n",
    "]\n",
    "run_request(queries_stocks)"
   ],
   "metadata": {
    "collapsed": false,
    "ExecuteTime": {
     "end_time": "2023-11-16T05:57:38.089110Z",
     "start_time": "2023-11-16T05:57:38.042825Z"
    }
   },
   "id": "fe75db130b7215aa"
  },
  {
   "cell_type": "markdown",
   "source": [
    "### Sample data verification\n",
    "\n",
    "+ Check the number of companies (should be 7)\n",
    "+ Check the total number of products (should be 8)"
   ],
   "metadata": {
    "collapsed": false
   },
   "id": "404481c4bb415b50"
  },
  {
   "cell_type": "code",
   "execution_count": 38,
   "outputs": [
    {
     "name": "stdout",
     "output_type": "stream",
     "text": [
      "-- execution time: 0.008 sec --\n"
     ]
    },
    {
     "data": {
      "text/plain": " companyCount \n--------------\n            7 ",
      "text/html": "<table><tr><th>companyCount</th></tr><tr><td style=\"text-align:right\">7</td></tr></table>"
     },
     "execution_count": 38,
     "metadata": {},
     "output_type": "execute_result"
    }
   ],
   "source": [
    "# Run a Cypher query to count nodes labeled as 'Company'\n",
    "query_companies_count = \"MATCH (c:Company) RETURN COUNT(c) AS companyCount\"\n",
    "run_request(query_companies_count)"
   ],
   "metadata": {
    "collapsed": false,
    "ExecuteTime": {
     "end_time": "2023-11-16T05:57:38.817494Z",
     "start_time": "2023-11-16T05:57:38.805979Z"
    }
   },
   "id": "1e3f8953a882a49a"
  },
  {
   "cell_type": "code",
   "execution_count": 39,
   "outputs": [
    {
     "name": "stdout",
     "output_type": "stream",
     "text": [
      "-- execution time: 0.005 sec --\n"
     ]
    },
    {
     "data": {
      "text/plain": " productCount \n--------------\n            8 ",
      "text/html": "<table><tr><th>productCount</th></tr><tr><td style=\"text-align:right\">8</td></tr></table>"
     },
     "execution_count": 39,
     "metadata": {},
     "output_type": "execute_result"
    }
   ],
   "source": [
    "query_products_count = \"MATCH (p:Product) RETURN COUNT(p) AS productCount\"\n",
    "run_request(query_products_count)"
   ],
   "metadata": {
    "collapsed": false,
    "ExecuteTime": {
     "end_time": "2023-11-16T05:57:40.245086Z",
     "start_time": "2023-11-16T05:57:40.218738Z"
    }
   },
   "id": "a33aa5be2f1f0462"
  },
  {
   "cell_type": "code",
   "execution_count": 39,
   "outputs": [],
   "source": [],
   "metadata": {
    "collapsed": false,
    "ExecuteTime": {
     "end_time": "2023-11-16T05:57:42.093406Z",
     "start_time": "2023-11-16T05:57:42.070992Z"
    }
   },
   "id": "c69733de2dc80724"
  },
  {
   "cell_type": "code",
   "execution_count": null,
   "outputs": [],
   "source": [],
   "metadata": {
    "collapsed": false
   },
   "id": "55559787178e6c70"
  }
 ],
 "metadata": {
  "kernelspec": {
   "display_name": "Python 3",
   "language": "python",
   "name": "python3"
  },
  "language_info": {
   "codemirror_mode": {
    "name": "ipython",
    "version": 2
   },
   "file_extension": ".py",
   "mimetype": "text/x-python",
   "name": "python",
   "nbconvert_exporter": "python",
   "pygments_lexer": "ipython2",
   "version": "2.7.6"
  }
 },
 "nbformat": 4,
 "nbformat_minor": 5
}
